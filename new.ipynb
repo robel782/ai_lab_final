{
 "cells": [
  {
   "cell_type": "code",
   "execution_count": 9,
   "id": "0c3ce9b3",
   "metadata": {},
   "outputs": [],
   "source": [
    "import pandas as pd"
   ]
  },
  {
   "cell_type": "code",
   "execution_count": 10,
   "id": "e68b1d0e",
   "metadata": {},
   "outputs": [],
   "source": [
    "df = pd.read_csv('travel_agency_offers.csv')"
   ]
  },
  {
   "cell_type": "code",
   "execution_count": 11,
   "id": "30123f48",
   "metadata": {},
   "outputs": [
    {
     "data": {
      "text/html": [
       "<div>\n",
       "<style scoped>\n",
       "    .dataframe tbody tr th:only-of-type {\n",
       "        vertical-align: middle;\n",
       "    }\n",
       "\n",
       "    .dataframe tbody tr th {\n",
       "        vertical-align: top;\n",
       "    }\n",
       "\n",
       "    .dataframe thead th {\n",
       "        text-align: right;\n",
       "    }\n",
       "</style>\n",
       "<table border=\"1\" class=\"dataframe\">\n",
       "  <thead>\n",
       "    <tr style=\"text-align: right;\">\n",
       "      <th></th>\n",
       "      <th>Continent</th>\n",
       "      <th>Country</th>\n",
       "      <th>City</th>\n",
       "      <th>Hotel</th>\n",
       "      <th>Stars</th>\n",
       "      <th>Date</th>\n",
       "      <th>End date</th>\n",
       "      <th>Price</th>\n",
       "      <th>Discounted Price</th>\n",
       "    </tr>\n",
       "  </thead>\n",
       "  <tbody>\n",
       "    <tr>\n",
       "      <th>0</th>\n",
       "      <td>Europe</td>\n",
       "      <td>Portugal</td>\n",
       "      <td>Lisbon</td>\n",
       "      <td>Enigma Hotel &amp; Spa</td>\n",
       "      <td>4</td>\n",
       "      <td>09-06-16</td>\n",
       "      <td>19-06-16</td>\n",
       "      <td>1.580,00</td>\n",
       "      <td>1.501,00</td>\n",
       "    </tr>\n",
       "    <tr>\n",
       "      <th>1</th>\n",
       "      <td>South America</td>\n",
       "      <td>Ecuador</td>\n",
       "      <td>Quito</td>\n",
       "      <td>Curiosity Hotel</td>\n",
       "      <td>2</td>\n",
       "      <td>09-06-16</td>\n",
       "      <td>19-06-16</td>\n",
       "      <td>33,000</td>\n",
       "      <td>31,350</td>\n",
       "    </tr>\n",
       "  </tbody>\n",
       "</table>\n",
       "</div>"
      ],
      "text/plain": [
       "       Continent   Country    City               Hotel  Stars      Date  \\\n",
       "0         Europe  Portugal  Lisbon  Enigma Hotel & Spa      4  09-06-16   \n",
       "1  South America   Ecuador   Quito     Curiosity Hotel      2  09-06-16   \n",
       "\n",
       "   End date     Price Discounted Price  \n",
       "0  19-06-16  1.580,00         1.501,00  \n",
       "1  19-06-16    33,000           31,350  "
      ]
     },
     "execution_count": 11,
     "metadata": {},
     "output_type": "execute_result"
    }
   ],
   "source": [
    "df.head(2)"
   ]
  },
  {
   "cell_type": "code",
   "execution_count": null,
   "id": "35c31ab3",
   "metadata": {},
   "outputs": [],
   "source": []
  },
  {
   "cell_type": "code",
   "execution_count": null,
   "id": "2bb87650",
   "metadata": {},
   "outputs": [],
   "source": []
  }
 ],
 "metadata": {
  "kernelspec": {
   "display_name": "Python 3",
   "language": "python",
   "name": "python3"
  },
  "language_info": {
   "codemirror_mode": {
    "name": "ipython",
    "version": 3
   },
   "file_extension": ".py",
   "mimetype": "text/x-python",
   "name": "python",
   "nbconvert_exporter": "python",
   "pygments_lexer": "ipython3",
   "version": "3.9.0"
  }
 },
 "nbformat": 4,
 "nbformat_minor": 5
}
